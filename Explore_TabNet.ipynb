{
 "cells": [
  {
   "cell_type": "code",
   "execution_count": 1,
   "id": "4e4c2b75-5149-41e0-95d0-d346595fbb5d",
   "metadata": {},
   "outputs": [],
   "source": [
    "import pandas as pd\n",
    "import numpy as np\n",
    "import matplotlib.pyplot as plt\n",
    "import seaborn as sns"
   ]
  },
  {
   "cell_type": "code",
   "execution_count": 2,
   "id": "40b0e550-f1c1-432d-8e1f-f33b6f102c0d",
   "metadata": {},
   "outputs": [],
   "source": [
    "from pytorch_tabnet.tab_model import TabNetClassifier\n",
    "from sklearn.datasets import load_iris\n",
    "from sklearn.model_selection import train_test_split, GridSearchCV,StratifiedKFold\n",
    "from sklearn.preprocessing import LabelEncoder, StandardScaler\n",
    "from sklearn.metrics import accuracy_score,classification_report\n",
    "from sklearn.decomposition import PCA\n",
    "import numpy as np"
   ]
  },
  {
   "cell_type": "markdown",
   "id": "3ea82773-2dcb-41ad-abca-deca179efef0",
   "metadata": {},
   "source": [
    "# Initial Data Preparation"
   ]
  },
  {
   "cell_type": "code",
   "execution_count": 3,
   "id": "2dbf0634-a034-4a7f-b5dd-16c6f908df67",
   "metadata": {},
   "outputs": [],
   "source": [
    "# ensure the dataset in a subfolder called data as below\n",
    "data_file = \"data/Epileptic Seizure Recognition.csv\""
   ]
  },
  {
   "cell_type": "code",
   "execution_count": 4,
   "id": "32a40a63-f1b5-497b-8b67-32e15b82ae43",
   "metadata": {},
   "outputs": [],
   "source": [
    "df = pd.read_csv(data_file)"
   ]
  },
  {
   "cell_type": "code",
   "execution_count": 5,
   "id": "ca63a652-ce05-4cd7-89b5-a6b862b6296d",
   "metadata": {},
   "outputs": [
    {
     "data": {
      "text/html": [
       "<div>\n",
       "<style scoped>\n",
       "    .dataframe tbody tr th:only-of-type {\n",
       "        vertical-align: middle;\n",
       "    }\n",
       "\n",
       "    .dataframe tbody tr th {\n",
       "        vertical-align: top;\n",
       "    }\n",
       "\n",
       "    .dataframe thead th {\n",
       "        text-align: right;\n",
       "    }\n",
       "</style>\n",
       "<table border=\"1\" class=\"dataframe\">\n",
       "  <thead>\n",
       "    <tr style=\"text-align: right;\">\n",
       "      <th></th>\n",
       "      <th>Unnamed</th>\n",
       "      <th>X1</th>\n",
       "      <th>X2</th>\n",
       "      <th>X3</th>\n",
       "      <th>X4</th>\n",
       "      <th>X5</th>\n",
       "      <th>X6</th>\n",
       "      <th>X7</th>\n",
       "      <th>X8</th>\n",
       "      <th>X9</th>\n",
       "      <th>...</th>\n",
       "      <th>X170</th>\n",
       "      <th>X171</th>\n",
       "      <th>X172</th>\n",
       "      <th>X173</th>\n",
       "      <th>X174</th>\n",
       "      <th>X175</th>\n",
       "      <th>X176</th>\n",
       "      <th>X177</th>\n",
       "      <th>X178</th>\n",
       "      <th>y</th>\n",
       "    </tr>\n",
       "  </thead>\n",
       "  <tbody>\n",
       "    <tr>\n",
       "      <th>0</th>\n",
       "      <td>X21.V1.791</td>\n",
       "      <td>135</td>\n",
       "      <td>190</td>\n",
       "      <td>229</td>\n",
       "      <td>223</td>\n",
       "      <td>192</td>\n",
       "      <td>125</td>\n",
       "      <td>55</td>\n",
       "      <td>-9</td>\n",
       "      <td>-33</td>\n",
       "      <td>...</td>\n",
       "      <td>-17</td>\n",
       "      <td>-15</td>\n",
       "      <td>-31</td>\n",
       "      <td>-77</td>\n",
       "      <td>-103</td>\n",
       "      <td>-127</td>\n",
       "      <td>-116</td>\n",
       "      <td>-83</td>\n",
       "      <td>-51</td>\n",
       "      <td>4</td>\n",
       "    </tr>\n",
       "    <tr>\n",
       "      <th>1</th>\n",
       "      <td>X15.V1.924</td>\n",
       "      <td>386</td>\n",
       "      <td>382</td>\n",
       "      <td>356</td>\n",
       "      <td>331</td>\n",
       "      <td>320</td>\n",
       "      <td>315</td>\n",
       "      <td>307</td>\n",
       "      <td>272</td>\n",
       "      <td>244</td>\n",
       "      <td>...</td>\n",
       "      <td>164</td>\n",
       "      <td>150</td>\n",
       "      <td>146</td>\n",
       "      <td>152</td>\n",
       "      <td>157</td>\n",
       "      <td>156</td>\n",
       "      <td>154</td>\n",
       "      <td>143</td>\n",
       "      <td>129</td>\n",
       "      <td>1</td>\n",
       "    </tr>\n",
       "    <tr>\n",
       "      <th>2</th>\n",
       "      <td>X8.V1.1</td>\n",
       "      <td>-32</td>\n",
       "      <td>-39</td>\n",
       "      <td>-47</td>\n",
       "      <td>-37</td>\n",
       "      <td>-32</td>\n",
       "      <td>-36</td>\n",
       "      <td>-57</td>\n",
       "      <td>-73</td>\n",
       "      <td>-85</td>\n",
       "      <td>...</td>\n",
       "      <td>57</td>\n",
       "      <td>64</td>\n",
       "      <td>48</td>\n",
       "      <td>19</td>\n",
       "      <td>-12</td>\n",
       "      <td>-30</td>\n",
       "      <td>-35</td>\n",
       "      <td>-35</td>\n",
       "      <td>-36</td>\n",
       "      <td>5</td>\n",
       "    </tr>\n",
       "    <tr>\n",
       "      <th>3</th>\n",
       "      <td>X16.V1.60</td>\n",
       "      <td>-105</td>\n",
       "      <td>-101</td>\n",
       "      <td>-96</td>\n",
       "      <td>-92</td>\n",
       "      <td>-89</td>\n",
       "      <td>-95</td>\n",
       "      <td>-102</td>\n",
       "      <td>-100</td>\n",
       "      <td>-87</td>\n",
       "      <td>...</td>\n",
       "      <td>-82</td>\n",
       "      <td>-81</td>\n",
       "      <td>-80</td>\n",
       "      <td>-77</td>\n",
       "      <td>-85</td>\n",
       "      <td>-77</td>\n",
       "      <td>-72</td>\n",
       "      <td>-69</td>\n",
       "      <td>-65</td>\n",
       "      <td>5</td>\n",
       "    </tr>\n",
       "    <tr>\n",
       "      <th>4</th>\n",
       "      <td>X20.V1.54</td>\n",
       "      <td>-9</td>\n",
       "      <td>-65</td>\n",
       "      <td>-98</td>\n",
       "      <td>-102</td>\n",
       "      <td>-78</td>\n",
       "      <td>-48</td>\n",
       "      <td>-16</td>\n",
       "      <td>0</td>\n",
       "      <td>-21</td>\n",
       "      <td>...</td>\n",
       "      <td>4</td>\n",
       "      <td>2</td>\n",
       "      <td>-12</td>\n",
       "      <td>-32</td>\n",
       "      <td>-41</td>\n",
       "      <td>-65</td>\n",
       "      <td>-83</td>\n",
       "      <td>-89</td>\n",
       "      <td>-73</td>\n",
       "      <td>5</td>\n",
       "    </tr>\n",
       "  </tbody>\n",
       "</table>\n",
       "<p>5 rows × 180 columns</p>\n",
       "</div>"
      ],
      "text/plain": [
       "      Unnamed   X1   X2   X3   X4   X5   X6   X7   X8   X9  ...  X170  X171  \\\n",
       "0  X21.V1.791  135  190  229  223  192  125   55   -9  -33  ...   -17   -15   \n",
       "1  X15.V1.924  386  382  356  331  320  315  307  272  244  ...   164   150   \n",
       "2     X8.V1.1  -32  -39  -47  -37  -32  -36  -57  -73  -85  ...    57    64   \n",
       "3   X16.V1.60 -105 -101  -96  -92  -89  -95 -102 -100  -87  ...   -82   -81   \n",
       "4   X20.V1.54   -9  -65  -98 -102  -78  -48  -16    0  -21  ...     4     2   \n",
       "\n",
       "   X172  X173  X174  X175  X176  X177  X178  y  \n",
       "0   -31   -77  -103  -127  -116   -83   -51  4  \n",
       "1   146   152   157   156   154   143   129  1  \n",
       "2    48    19   -12   -30   -35   -35   -36  5  \n",
       "3   -80   -77   -85   -77   -72   -69   -65  5  \n",
       "4   -12   -32   -41   -65   -83   -89   -73  5  \n",
       "\n",
       "[5 rows x 180 columns]"
      ]
     },
     "execution_count": 5,
     "metadata": {},
     "output_type": "execute_result"
    }
   ],
   "source": [
    "df.head()"
   ]
  },
  {
   "cell_type": "code",
   "execution_count": 6,
   "id": "d3f59327-c35f-402a-9684-2096bf3e844a",
   "metadata": {},
   "outputs": [
    {
     "name": "stdout",
     "output_type": "stream",
     "text": [
      "Data set has 11,500 samples and 180 features.\n"
     ]
    }
   ],
   "source": [
    "print(f'Data set has {df.shape[0]:,} samples and {df.shape[1]} features.')"
   ]
  },
  {
   "cell_type": "code",
   "execution_count": 7,
   "id": "34363e7c-9f4a-46f1-8e94-dc8c736c123f",
   "metadata": {},
   "outputs": [
    {
     "name": "stdout",
     "output_type": "stream",
     "text": [
      "Initial distribution of class labels:\n",
      "y\n",
      "4    2300\n",
      "1    2300\n",
      "5    2300\n",
      "2    2300\n",
      "3    2300\n",
      "Name: count, dtype: int64\n"
     ]
    }
   ],
   "source": [
    "print('Initial distribution of class labels:')\n",
    "print(df.y.value_counts())"
   ]
  },
  {
   "cell_type": "code",
   "execution_count": 8,
   "id": "fd740af7-2e3d-4e69-a66f-9d5909b93ca9",
   "metadata": {},
   "outputs": [],
   "source": [
    "# remove unusued column\n",
    "df.drop('Unnamed', axis=1, inplace=True)"
   ]
  },
  {
   "cell_type": "code",
   "execution_count": 9,
   "id": "0972bd7e-ffcf-40f8-85ca-a3b92c63d18c",
   "metadata": {},
   "outputs": [],
   "source": [
    "# classify having epileptic seizure or non-seisure\n",
    "class_relabeling = {1:1, 2:0, 3:0, 4:0, 5:0}\n",
    "df.replace({'y': class_relabeling}, inplace=True)"
   ]
  },
  {
   "cell_type": "code",
   "execution_count": 10,
   "id": "2dfdd3fb-f58f-4eb9-97bb-f8e2541d1060",
   "metadata": {},
   "outputs": [
    {
     "name": "stdout",
     "output_type": "stream",
     "text": [
      "Number of records epileptic (class=1) 2,300 vs non-epileptic (class=0) 9,200\n"
     ]
    }
   ],
   "source": [
    "counts = df['y'].value_counts()\n",
    "print(f\"Number of records epileptic (class=1) {counts[1]:,} vs non-epileptic (class=0) {counts[0]:,}\")"
   ]
  },
  {
   "cell_type": "code",
   "execution_count": 11,
   "id": "b3b5c92d-7144-4e92-9bc3-51fbfefde438",
   "metadata": {},
   "outputs": [
    {
     "data": {
      "text/html": [
       "<div>\n",
       "<style scoped>\n",
       "    .dataframe tbody tr th:only-of-type {\n",
       "        vertical-align: middle;\n",
       "    }\n",
       "\n",
       "    .dataframe tbody tr th {\n",
       "        vertical-align: top;\n",
       "    }\n",
       "\n",
       "    .dataframe thead th {\n",
       "        text-align: right;\n",
       "    }\n",
       "</style>\n",
       "<table border=\"1\" class=\"dataframe\">\n",
       "  <thead>\n",
       "    <tr style=\"text-align: right;\">\n",
       "      <th></th>\n",
       "      <th>count</th>\n",
       "      <th>mean</th>\n",
       "      <th>std</th>\n",
       "      <th>min</th>\n",
       "      <th>25%</th>\n",
       "      <th>50%</th>\n",
       "      <th>75%</th>\n",
       "      <th>max</th>\n",
       "    </tr>\n",
       "  </thead>\n",
       "  <tbody>\n",
       "    <tr>\n",
       "      <th>X1</th>\n",
       "      <td>9200.0</td>\n",
       "      <td>-8.992609</td>\n",
       "      <td>70.455286</td>\n",
       "      <td>-566.0</td>\n",
       "      <td>-44.0</td>\n",
       "      <td>-7.0</td>\n",
       "      <td>26.0</td>\n",
       "      <td>1726.0</td>\n",
       "    </tr>\n",
       "    <tr>\n",
       "      <th>X2</th>\n",
       "      <td>9200.0</td>\n",
       "      <td>-8.877174</td>\n",
       "      <td>70.560110</td>\n",
       "      <td>-609.0</td>\n",
       "      <td>-44.0</td>\n",
       "      <td>-7.0</td>\n",
       "      <td>27.0</td>\n",
       "      <td>1713.0</td>\n",
       "    </tr>\n",
       "    <tr>\n",
       "      <th>X3</th>\n",
       "      <td>9200.0</td>\n",
       "      <td>-8.910435</td>\n",
       "      <td>70.372582</td>\n",
       "      <td>-594.0</td>\n",
       "      <td>-45.0</td>\n",
       "      <td>-7.0</td>\n",
       "      <td>28.0</td>\n",
       "      <td>1697.0</td>\n",
       "    </tr>\n",
       "    <tr>\n",
       "      <th>X4</th>\n",
       "      <td>9200.0</td>\n",
       "      <td>-8.969783</td>\n",
       "      <td>70.030409</td>\n",
       "      <td>-549.0</td>\n",
       "      <td>-45.0</td>\n",
       "      <td>-8.0</td>\n",
       "      <td>27.0</td>\n",
       "      <td>1612.0</td>\n",
       "    </tr>\n",
       "    <tr>\n",
       "      <th>X5</th>\n",
       "      <td>9200.0</td>\n",
       "      <td>-9.085326</td>\n",
       "      <td>69.377958</td>\n",
       "      <td>-603.0</td>\n",
       "      <td>-45.0</td>\n",
       "      <td>-8.0</td>\n",
       "      <td>27.0</td>\n",
       "      <td>1437.0</td>\n",
       "    </tr>\n",
       "    <tr>\n",
       "      <th>...</th>\n",
       "      <td>...</td>\n",
       "      <td>...</td>\n",
       "      <td>...</td>\n",
       "      <td>...</td>\n",
       "      <td>...</td>\n",
       "      <td>...</td>\n",
       "      <td>...</td>\n",
       "      <td>...</td>\n",
       "    </tr>\n",
       "    <tr>\n",
       "      <th>X175</th>\n",
       "      <td>9200.0</td>\n",
       "      <td>-9.848587</td>\n",
       "      <td>69.550894</td>\n",
       "      <td>-570.0</td>\n",
       "      <td>-45.0</td>\n",
       "      <td>-9.0</td>\n",
       "      <td>27.0</td>\n",
       "      <td>1958.0</td>\n",
       "    </tr>\n",
       "    <tr>\n",
       "      <th>X176</th>\n",
       "      <td>9200.0</td>\n",
       "      <td>-9.620435</td>\n",
       "      <td>70.353607</td>\n",
       "      <td>-594.0</td>\n",
       "      <td>-46.0</td>\n",
       "      <td>-8.0</td>\n",
       "      <td>27.0</td>\n",
       "      <td>2047.0</td>\n",
       "    </tr>\n",
       "    <tr>\n",
       "      <th>X177</th>\n",
       "      <td>9200.0</td>\n",
       "      <td>-9.395435</td>\n",
       "      <td>70.934300</td>\n",
       "      <td>-563.0</td>\n",
       "      <td>-45.0</td>\n",
       "      <td>-9.0</td>\n",
       "      <td>27.0</td>\n",
       "      <td>2047.0</td>\n",
       "    </tr>\n",
       "    <tr>\n",
       "      <th>X178</th>\n",
       "      <td>9200.0</td>\n",
       "      <td>-9.240435</td>\n",
       "      <td>71.185850</td>\n",
       "      <td>-559.0</td>\n",
       "      <td>-45.0</td>\n",
       "      <td>-8.0</td>\n",
       "      <td>27.0</td>\n",
       "      <td>1915.0</td>\n",
       "    </tr>\n",
       "    <tr>\n",
       "      <th>y</th>\n",
       "      <td>9200.0</td>\n",
       "      <td>0.000000</td>\n",
       "      <td>0.000000</td>\n",
       "      <td>0.0</td>\n",
       "      <td>0.0</td>\n",
       "      <td>0.0</td>\n",
       "      <td>0.0</td>\n",
       "      <td>0.0</td>\n",
       "    </tr>\n",
       "  </tbody>\n",
       "</table>\n",
       "<p>179 rows × 8 columns</p>\n",
       "</div>"
      ],
      "text/plain": [
       "       count      mean        std    min   25%  50%   75%     max\n",
       "X1    9200.0 -8.992609  70.455286 -566.0 -44.0 -7.0  26.0  1726.0\n",
       "X2    9200.0 -8.877174  70.560110 -609.0 -44.0 -7.0  27.0  1713.0\n",
       "X3    9200.0 -8.910435  70.372582 -594.0 -45.0 -7.0  28.0  1697.0\n",
       "X4    9200.0 -8.969783  70.030409 -549.0 -45.0 -8.0  27.0  1612.0\n",
       "X5    9200.0 -9.085326  69.377958 -603.0 -45.0 -8.0  27.0  1437.0\n",
       "...      ...       ...        ...    ...   ...  ...   ...     ...\n",
       "X175  9200.0 -9.848587  69.550894 -570.0 -45.0 -9.0  27.0  1958.0\n",
       "X176  9200.0 -9.620435  70.353607 -594.0 -46.0 -8.0  27.0  2047.0\n",
       "X177  9200.0 -9.395435  70.934300 -563.0 -45.0 -9.0  27.0  2047.0\n",
       "X178  9200.0 -9.240435  71.185850 -559.0 -45.0 -8.0  27.0  1915.0\n",
       "y     9200.0  0.000000   0.000000    0.0   0.0  0.0   0.0     0.0\n",
       "\n",
       "[179 rows x 8 columns]"
      ]
     },
     "execution_count": 11,
     "metadata": {},
     "output_type": "execute_result"
    }
   ],
   "source": [
    "# describe non-epileptic data\n",
    "df[df['y'] == 0].describe().T"
   ]
  },
  {
   "cell_type": "code",
   "execution_count": 12,
   "id": "ee10d777-44b8-47b6-87b3-fde4d8cb56d5",
   "metadata": {},
   "outputs": [
    {
     "data": {
      "text/html": [
       "<div>\n",
       "<style scoped>\n",
       "    .dataframe tbody tr th:only-of-type {\n",
       "        vertical-align: middle;\n",
       "    }\n",
       "\n",
       "    .dataframe tbody tr th {\n",
       "        vertical-align: top;\n",
       "    }\n",
       "\n",
       "    .dataframe thead th {\n",
       "        text-align: right;\n",
       "    }\n",
       "</style>\n",
       "<table border=\"1\" class=\"dataframe\">\n",
       "  <thead>\n",
       "    <tr style=\"text-align: right;\">\n",
       "      <th></th>\n",
       "      <th>count</th>\n",
       "      <th>mean</th>\n",
       "      <th>std</th>\n",
       "      <th>min</th>\n",
       "      <th>25%</th>\n",
       "      <th>50%</th>\n",
       "      <th>75%</th>\n",
       "      <th>max</th>\n",
       "    </tr>\n",
       "  </thead>\n",
       "  <tbody>\n",
       "    <tr>\n",
       "      <th>X1</th>\n",
       "      <td>2300.0</td>\n",
       "      <td>-21.936522</td>\n",
       "      <td>342.361939</td>\n",
       "      <td>-1839.0</td>\n",
       "      <td>-193.25</td>\n",
       "      <td>-16.0</td>\n",
       "      <td>159.00</td>\n",
       "      <td>1314.0</td>\n",
       "    </tr>\n",
       "    <tr>\n",
       "      <th>X2</th>\n",
       "      <td>2300.0</td>\n",
       "      <td>-19.049130</td>\n",
       "      <td>343.398782</td>\n",
       "      <td>-1838.0</td>\n",
       "      <td>-191.25</td>\n",
       "      <td>-18.0</td>\n",
       "      <td>168.25</td>\n",
       "      <td>1356.0</td>\n",
       "    </tr>\n",
       "    <tr>\n",
       "      <th>X3</th>\n",
       "      <td>2300.0</td>\n",
       "      <td>-15.293913</td>\n",
       "      <td>337.489643</td>\n",
       "      <td>-1835.0</td>\n",
       "      <td>-187.00</td>\n",
       "      <td>-12.5</td>\n",
       "      <td>169.25</td>\n",
       "      <td>1274.0</td>\n",
       "    </tr>\n",
       "    <tr>\n",
       "      <th>X4</th>\n",
       "      <td>2300.0</td>\n",
       "      <td>-9.836087</td>\n",
       "      <td>332.354833</td>\n",
       "      <td>-1845.0</td>\n",
       "      <td>-184.00</td>\n",
       "      <td>-6.0</td>\n",
       "      <td>166.25</td>\n",
       "      <td>1226.0</td>\n",
       "    </tr>\n",
       "    <tr>\n",
       "      <th>X5</th>\n",
       "      <td>2300.0</td>\n",
       "      <td>-3.707391</td>\n",
       "      <td>332.211163</td>\n",
       "      <td>-1791.0</td>\n",
       "      <td>-174.25</td>\n",
       "      <td>-12.0</td>\n",
       "      <td>170.00</td>\n",
       "      <td>1518.0</td>\n",
       "    </tr>\n",
       "    <tr>\n",
       "      <th>...</th>\n",
       "      <td>...</td>\n",
       "      <td>...</td>\n",
       "      <td>...</td>\n",
       "      <td>...</td>\n",
       "      <td>...</td>\n",
       "      <td>...</td>\n",
       "      <td>...</td>\n",
       "      <td>...</td>\n",
       "    </tr>\n",
       "    <tr>\n",
       "      <th>X175</th>\n",
       "      <td>2300.0</td>\n",
       "      <td>-25.830870</td>\n",
       "      <td>339.650467</td>\n",
       "      <td>-1863.0</td>\n",
       "      <td>-195.00</td>\n",
       "      <td>-14.5</td>\n",
       "      <td>153.25</td>\n",
       "      <td>1205.0</td>\n",
       "    </tr>\n",
       "    <tr>\n",
       "      <th>X176</th>\n",
       "      <td>2300.0</td>\n",
       "      <td>-25.043913</td>\n",
       "      <td>335.747017</td>\n",
       "      <td>-1781.0</td>\n",
       "      <td>-192.00</td>\n",
       "      <td>-18.0</td>\n",
       "      <td>150.00</td>\n",
       "      <td>1371.0</td>\n",
       "    </tr>\n",
       "    <tr>\n",
       "      <th>X177</th>\n",
       "      <td>2300.0</td>\n",
       "      <td>-24.548261</td>\n",
       "      <td>335.244512</td>\n",
       "      <td>-1727.0</td>\n",
       "      <td>-190.25</td>\n",
       "      <td>-21.5</td>\n",
       "      <td>151.25</td>\n",
       "      <td>1445.0</td>\n",
       "    </tr>\n",
       "    <tr>\n",
       "      <th>X178</th>\n",
       "      <td>2300.0</td>\n",
       "      <td>-24.016522</td>\n",
       "      <td>339.819309</td>\n",
       "      <td>-1829.0</td>\n",
       "      <td>-189.00</td>\n",
       "      <td>-23.0</td>\n",
       "      <td>157.25</td>\n",
       "      <td>1380.0</td>\n",
       "    </tr>\n",
       "    <tr>\n",
       "      <th>y</th>\n",
       "      <td>2300.0</td>\n",
       "      <td>1.000000</td>\n",
       "      <td>0.000000</td>\n",
       "      <td>1.0</td>\n",
       "      <td>1.00</td>\n",
       "      <td>1.0</td>\n",
       "      <td>1.00</td>\n",
       "      <td>1.0</td>\n",
       "    </tr>\n",
       "  </tbody>\n",
       "</table>\n",
       "<p>179 rows × 8 columns</p>\n",
       "</div>"
      ],
      "text/plain": [
       "       count       mean         std     min     25%   50%     75%     max\n",
       "X1    2300.0 -21.936522  342.361939 -1839.0 -193.25 -16.0  159.00  1314.0\n",
       "X2    2300.0 -19.049130  343.398782 -1838.0 -191.25 -18.0  168.25  1356.0\n",
       "X3    2300.0 -15.293913  337.489643 -1835.0 -187.00 -12.5  169.25  1274.0\n",
       "X4    2300.0  -9.836087  332.354833 -1845.0 -184.00  -6.0  166.25  1226.0\n",
       "X5    2300.0  -3.707391  332.211163 -1791.0 -174.25 -12.0  170.00  1518.0\n",
       "...      ...        ...         ...     ...     ...   ...     ...     ...\n",
       "X175  2300.0 -25.830870  339.650467 -1863.0 -195.00 -14.5  153.25  1205.0\n",
       "X176  2300.0 -25.043913  335.747017 -1781.0 -192.00 -18.0  150.00  1371.0\n",
       "X177  2300.0 -24.548261  335.244512 -1727.0 -190.25 -21.5  151.25  1445.0\n",
       "X178  2300.0 -24.016522  339.819309 -1829.0 -189.00 -23.0  157.25  1380.0\n",
       "y     2300.0   1.000000    0.000000     1.0    1.00   1.0    1.00     1.0\n",
       "\n",
       "[179 rows x 8 columns]"
      ]
     },
     "execution_count": 12,
     "metadata": {},
     "output_type": "execute_result"
    }
   ],
   "source": [
    "# describe epileptic data\n",
    "df[df['y'] == 1].describe().T"
   ]
  },
  {
   "cell_type": "markdown",
   "id": "7f3b7f7a-9740-4695-8566-22d4cb942294",
   "metadata": {},
   "source": [
    "# Split Dataset into Train/Validation/Test"
   ]
  },
  {
   "cell_type": "code",
   "execution_count": 13,
   "id": "42e2f606-ee9f-4cbd-8235-7cd2804412ab",
   "metadata": {},
   "outputs": [],
   "source": [
    "# Partition the dataset into X and y\n",
    "y = df.y\n",
    "X = df.drop(columns=['y'])"
   ]
  },
  {
   "cell_type": "code",
   "execution_count": 14,
   "id": "9a767926-688a-432d-8a21-980a00dc8f46",
   "metadata": {},
   "outputs": [],
   "source": [
    "# Split the data into training (60%), validation (%20), and test sets (%20)\n",
    "X_train, X_temp, y_train, y_temp = train_test_split(X, y, test_size=0.4, random_state=42, stratify=y)\n",
    "X_val, X_test, y_val, y_test = train_test_split(X_temp, y_temp, test_size=0.5, random_state=42, stratify=y_temp)"
   ]
  },
  {
   "cell_type": "code",
   "execution_count": 15,
   "id": "fc5d8bf7-fa94-4f76-9156-fb0426c02399",
   "metadata": {},
   "outputs": [
    {
     "name": "stdout",
     "output_type": "stream",
     "text": [
      "Distribution of  class labels in TRAINING set: Class=1: 0.2,    Class=0: 0.8\n",
      "Distribution of  class labels in VALIDATION set: Class=1: 0.2,    Class=0: 0.8\n",
      "Distribution of  class labels in TEST set: Class=1: 0.2,    Class=0: 0.8\n"
     ]
    }
   ],
   "source": [
    "# check the class distributions after the split\n",
    "print(f'Distribution of  class labels in TRAINING set: Class=1: {y_train.value_counts(normalize=True)[1]},\\\n",
    "    Class=0: {y_train.value_counts(normalize=True)[0]}')\n",
    "print(f'Distribution of  class labels in VALIDATION set: Class=1: {y_val.value_counts(normalize=True)[1]},\\\n",
    "    Class=0: {y_val.value_counts(normalize=True)[0]}')\n",
    "print(f'Distribution of  class labels in TEST set: Class=1: {y_test.value_counts(normalize=True)[1]},\\\n",
    "    Class=0: {y_test.value_counts(normalize=True)[0]}')\n"
   ]
  },
  {
   "cell_type": "code",
   "execution_count": 16,
   "id": "cdd78065-52db-4695-9bb9-36b01dff6fd9",
   "metadata": {},
   "outputs": [],
   "source": [
    "# Normalize features\n",
    "scaler = StandardScaler()\n",
    "X_train = scaler.fit_transform(X_train)\n",
    "X_val = scaler.transform(X_val)\n",
    "X_test = scaler.transform(X_test)"
   ]
  },
  {
   "cell_type": "code",
   "execution_count": 17,
   "id": "ff946b9a-0df3-489b-80c1-d436020997ee",
   "metadata": {},
   "outputs": [],
   "source": [
    "# suppress annoying warnings\n",
    "import warnings\n",
    "warnings.filterwarnings(\"ignore\")"
   ]
  },
  {
   "cell_type": "markdown",
   "id": "b6880b65-1ecd-43b5-91b9-e4647f2648ad",
   "metadata": {},
   "source": [
    "# Try Base (Default Parameters) TabNet Model"
   ]
  },
  {
   "cell_type": "code",
   "execution_count": 18,
   "id": "d86b0f77-ec42-4eb0-a8da-1ed7f77be2cb",
   "metadata": {},
   "outputs": [],
   "source": [
    "# Initialize the TabNet classifier to use GPU\n",
    "tabnet_clf_base = TabNetClassifier(device_name='cuda')"
   ]
  },
  {
   "cell_type": "code",
   "execution_count": 19,
   "id": "f0bcff53-0161-4cfc-99e1-e937cba53294",
   "metadata": {},
   "outputs": [
    {
     "name": "stdout",
     "output_type": "stream",
     "text": [
      "epoch 0  | loss: 0.52027 | val_0_auc: 0.87354 |  0:00:01s\n",
      "epoch 1  | loss: 0.26837 | val_0_auc: 0.94022 |  0:00:02s\n",
      "epoch 2  | loss: 0.26724 | val_0_auc: 0.95901 |  0:00:03s\n",
      "epoch 3  | loss: 0.24009 | val_0_auc: 0.94573 |  0:00:04s\n",
      "epoch 4  | loss: 0.24156 | val_0_auc: 0.95797 |  0:00:05s\n",
      "epoch 5  | loss: 0.23738 | val_0_auc: 0.94978 |  0:00:06s\n",
      "epoch 6  | loss: 0.2281  | val_0_auc: 0.96148 |  0:00:07s\n",
      "epoch 7  | loss: 0.23069 | val_0_auc: 0.96125 |  0:00:08s\n",
      "epoch 8  | loss: 0.22881 | val_0_auc: 0.96156 |  0:00:09s\n",
      "epoch 9  | loss: 0.2335  | val_0_auc: 0.95963 |  0:00:09s\n",
      "epoch 10 | loss: 0.21907 | val_0_auc: 0.96218 |  0:00:10s\n",
      "epoch 11 | loss: 0.22037 | val_0_auc: 0.9511  |  0:00:11s\n",
      "epoch 12 | loss: 0.22603 | val_0_auc: 0.96048 |  0:00:12s\n",
      "epoch 13 | loss: 0.20265 | val_0_auc: 0.971   |  0:00:13s\n",
      "epoch 14 | loss: 0.20193 | val_0_auc: 0.95751 |  0:00:14s\n",
      "epoch 15 | loss: 0.19949 | val_0_auc: 0.96847 |  0:00:15s\n",
      "epoch 16 | loss: 0.18871 | val_0_auc: 0.97192 |  0:00:16s\n",
      "epoch 17 | loss: 0.1794  | val_0_auc: 0.97197 |  0:00:17s\n",
      "epoch 18 | loss: 0.19062 | val_0_auc: 0.97133 |  0:00:18s\n",
      "epoch 19 | loss: 0.18289 | val_0_auc: 0.97358 |  0:00:19s\n",
      "epoch 20 | loss: 0.17822 | val_0_auc: 0.97095 |  0:00:20s\n",
      "epoch 21 | loss: 0.17781 | val_0_auc: 0.97693 |  0:00:21s\n",
      "epoch 22 | loss: 0.16787 | val_0_auc: 0.97365 |  0:00:22s\n",
      "epoch 23 | loss: 0.16508 | val_0_auc: 0.9737  |  0:00:23s\n",
      "epoch 24 | loss: 0.17133 | val_0_auc: 0.9772  |  0:00:24s\n",
      "epoch 25 | loss: 0.15749 | val_0_auc: 0.97969 |  0:00:25s\n",
      "epoch 26 | loss: 0.17199 | val_0_auc: 0.97003 |  0:00:26s\n",
      "epoch 27 | loss: 0.17155 | val_0_auc: 0.96586 |  0:00:27s\n",
      "epoch 28 | loss: 0.18561 | val_0_auc: 0.96799 |  0:00:27s\n",
      "epoch 29 | loss: 0.16829 | val_0_auc: 0.97162 |  0:00:28s\n",
      "epoch 30 | loss: 0.16836 | val_0_auc: 0.97104 |  0:00:29s\n",
      "epoch 31 | loss: 0.17156 | val_0_auc: 0.97491 |  0:00:30s\n",
      "epoch 32 | loss: 0.16706 | val_0_auc: 0.97563 |  0:00:31s\n",
      "epoch 33 | loss: 0.16532 | val_0_auc: 0.97078 |  0:00:32s\n",
      "epoch 34 | loss: 0.15351 | val_0_auc: 0.97595 |  0:00:33s\n",
      "epoch 35 | loss: 0.15288 | val_0_auc: 0.98055 |  0:00:34s\n",
      "epoch 36 | loss: 0.14943 | val_0_auc: 0.97924 |  0:00:35s\n",
      "epoch 37 | loss: 0.15339 | val_0_auc: 0.97854 |  0:00:36s\n",
      "epoch 38 | loss: 0.15022 | val_0_auc: 0.97685 |  0:00:36s\n",
      "epoch 39 | loss: 0.14523 | val_0_auc: 0.97604 |  0:00:37s\n",
      "epoch 40 | loss: 0.14426 | val_0_auc: 0.97999 |  0:00:38s\n",
      "epoch 41 | loss: 0.13932 | val_0_auc: 0.98069 |  0:00:39s\n",
      "epoch 42 | loss: 0.13658 | val_0_auc: 0.9797  |  0:00:40s\n",
      "epoch 43 | loss: 0.14136 | val_0_auc: 0.97664 |  0:00:41s\n",
      "epoch 44 | loss: 0.13851 | val_0_auc: 0.97618 |  0:00:42s\n",
      "epoch 45 | loss: 0.12984 | val_0_auc: 0.98151 |  0:00:43s\n",
      "epoch 46 | loss: 0.13202 | val_0_auc: 0.9816  |  0:00:43s\n",
      "epoch 47 | loss: 0.12749 | val_0_auc: 0.98086 |  0:00:44s\n",
      "epoch 48 | loss: 0.12593 | val_0_auc: 0.98146 |  0:00:45s\n",
      "epoch 49 | loss: 0.12552 | val_0_auc: 0.98261 |  0:00:46s\n",
      "epoch 50 | loss: 0.12608 | val_0_auc: 0.98364 |  0:00:47s\n",
      "epoch 51 | loss: 0.13509 | val_0_auc: 0.98406 |  0:00:48s\n",
      "epoch 52 | loss: 0.12554 | val_0_auc: 0.98529 |  0:00:49s\n",
      "epoch 53 | loss: 0.11617 | val_0_auc: 0.98492 |  0:00:50s\n",
      "epoch 54 | loss: 0.12883 | val_0_auc: 0.9841  |  0:00:50s\n",
      "epoch 55 | loss: 0.1358  | val_0_auc: 0.98299 |  0:00:51s\n",
      "epoch 56 | loss: 0.12745 | val_0_auc: 0.9821  |  0:00:52s\n",
      "epoch 57 | loss: 0.12879 | val_0_auc: 0.98511 |  0:00:53s\n",
      "epoch 58 | loss: 0.13534 | val_0_auc: 0.98105 |  0:00:54s\n",
      "epoch 59 | loss: 0.12896 | val_0_auc: 0.98347 |  0:00:55s\n",
      "epoch 60 | loss: 0.12623 | val_0_auc: 0.98208 |  0:00:56s\n",
      "epoch 61 | loss: 0.13449 | val_0_auc: 0.98003 |  0:00:57s\n",
      "epoch 62 | loss: 0.13213 | val_0_auc: 0.98134 |  0:00:58s\n",
      "\n",
      "Early stopping occurred at epoch 62 with best_epoch = 52 and best_val_0_auc = 0.98529\n"
     ]
    }
   ],
   "source": [
    "# do base level training of model\n",
    "tabnet_clf_base.fit(\n",
    "    X_train, y_train,\n",
    "    eval_set=[(X_val, y_val)],  # Validation set for early stopping    \n",
    "    max_epochs=100,  # Max number of epochs\n",
    "    patience=10,    # Early stopping patience\n",
    "    batch_size=256, # Mini-batch size\n",
    "    virtual_batch_size=64,  # Virtual batch size\n",
    "    num_workers=0,  # Set to >0 for multiprocessing\n",
    ")"
   ]
  },
  {
   "cell_type": "code",
   "execution_count": 20,
   "id": "8fbb7d2d-11ac-43a7-858a-0d20b4433f18",
   "metadata": {},
   "outputs": [
    {
     "name": "stdout",
     "output_type": "stream",
     "text": [
      "Accuracy: 94.00%\n",
      "Classification Report for Base TabNet Model:\n",
      "               precision    recall  f1-score   support\n",
      "\n",
      "           0       0.94      0.99      0.96      1840\n",
      "           1       0.94      0.74      0.83       460\n",
      "\n",
      "    accuracy                           0.94      2300\n",
      "   macro avg       0.94      0.87      0.90      2300\n",
      "weighted avg       0.94      0.94      0.94      2300\n",
      "\n"
     ]
    }
   ],
   "source": [
    "# Make predictions and evaluate the base model\n",
    "y_pred = tabnet_clf_base.predict(X_test)\n",
    "accuracy = accuracy_score(y_test, y_pred)\n",
    "print(f\"Accuracy: {accuracy * 100:.2f}%\")\n",
    "report = classification_report(y_test, y_pred)\n",
    "print(\"Classification Report for Base TabNet Model:\\n\", report)"
   ]
  },
  {
   "cell_type": "code",
   "execution_count": 21,
   "id": "f178f55c-b268-4a14-8242-96b2f969b537",
   "metadata": {},
   "outputs": [
    {
     "name": "stdout",
     "output_type": "stream",
     "text": [
      "Confusion Matrix:\n",
      " [[1820   20]\n",
      " [ 118  342]]\n"
     ]
    }
   ],
   "source": [
    "from sklearn.metrics import confusion_matrix\n",
    "# Compute the confusion matrix\n",
    "cm = confusion_matrix(y_test, y_pred)\n",
    "print(\"Confusion Matrix:\\n\", cm)"
   ]
  },
  {
   "cell_type": "code",
   "execution_count": 22,
   "id": "96764f84-06bd-4c36-9590-c2072828e91a",
   "metadata": {},
   "outputs": [
    {
     "data": {
      "image/png": "[encoded data removed]",
      "text/plain": [
       "<Figure size 800x600 with 2 Axes>"
      ]
     },
     "metadata": {},
     "output_type": "display_data"
    }
   ],
   "source": [
    "from sklearn.metrics import ConfusionMatrixDisplay\n",
    "\n",
    "# Plot confusion matrix\n",
    "plt.figure(figsize=(8, 6))\n",
    "sns.heatmap(cm, annot=True, fmt='d', cmap='Blues', xticklabels=['NonSeizure', 'Seizure'], yticklabels=['NonSeizure', 'Seizure'])\n",
    "plt.xlabel('Predicted')\n",
    "plt.ylabel('Actual')\n",
    "plt.title('Default Model Confusion Matrix')\n",
    "plt.show()"
   ]
  },
  {
   "cell_type": "markdown",
   "id": "56497d38-45f2-4354-9c79-e30ac1bab699",
   "metadata": {},
   "source": [
    "**Base model has accuracy score of 94%**"
   ]
  },
  {
   "cell_type": "markdown",
   "id": "2285a7d2-7b41-44c6-ac94-059b150642bb",
   "metadata": {},
   "source": [
    "# Try TabNet with Top 15 Most Important Features"
   ]
  },
  {
   "cell_type": "code",
   "execution_count": 23,
   "id": "c0597abb-21cf-4edd-98f0-57d1ad6358ac",
   "metadata": {},
   "outputs": [
    {
     "data": {
      "image/png": "[encoded data removed]",
      "text/plain": [
       "<Figure size 800x600 with 1 Axes>"
      ]
     },
     "metadata": {},
     "output_type": "display_data"
    }
   ],
   "source": [
    "# Get feature importances\n",
    "feature_importances = tabnet_clf_base.feature_importances_\n",
    "\n",
    "#let's examine the top features\n",
    "top_n = 15\n",
    "\n",
    "# Create a sorted list of (feature, importance) pairs\n",
    "features_with_importance = sorted(\n",
    "    zip(X.columns, feature_importances),\n",
    "    key=lambda x: x[1],\n",
    "    reverse=True  # Sort by importance in descending order\n",
    ")\n",
    "\n",
    "# Extract the top 5 most important features\n",
    "top_features = features_with_importance[:top_n]\n",
    "\n",
    "# Separate feature names and their importance values for plotting\n",
    "top_feature_names = [f[0] for f in top_features]\n",
    "top_importances = [f[1] for f in top_features]\n",
    "\n",
    "# Plot the top 5 features\n",
    "plt.figure(figsize=(8, 6))\n",
    "plt.bar(top_feature_names, top_importances)\n",
    "plt.xlabel(\"Features\")\n",
    "plt.ylabel(\"Importance\")\n",
    "plt.title(f\"Top {top_n} Most Important Features\")\n",
    "plt.xticks(rotation=45)\n",
    "plt.tight_layout()\n",
    "plt.show()"
   ]
  },
  {
   "cell_type": "code",
   "execution_count": 24,
   "id": "7f97a61e-44c8-42a3-919d-d49ad4c6cfdc",
   "metadata": {},
   "outputs": [],
   "source": [
    "# Now, focus on only the top features identified \n",
    "X_top_n = X[top_feature_names]"
   ]
  },
  {
   "cell_type": "code",
   "execution_count": 25,
   "id": "baa4693f-0562-4648-836a-fe5e0b3d6d04",
   "metadata": {},
   "outputs": [],
   "source": [
    "# And repeat the split with the restricted feature set: \n",
    "# Split the data into training (60%), validation (%20), and test sets (%20)\n",
    "X_train, X_temp, y_train, y_temp = train_test_split(X_top_n, y, test_size=0.4, random_state=42, stratify=y)\n",
    "X_val, X_test, y_val, y_test = train_test_split(X_temp, y_temp, test_size=0.5, random_state=42, stratify=y_temp)"
   ]
  },
  {
   "cell_type": "code",
   "execution_count": 26,
   "id": "4c177987-f365-429e-8d22-81e506122756",
   "metadata": {},
   "outputs": [],
   "source": [
    "# Normalize features\n",
    "scaler = StandardScaler()\n",
    "X_train = scaler.fit_transform(X_train)\n",
    "X_val = scaler.transform(X_val)\n",
    "X_test = scaler.transform(X_test)"
   ]
  },
  {
   "cell_type": "code",
   "execution_count": 27,
   "id": "fbff8d3f-1ea6-4e31-ab86-67280478d3a7",
   "metadata": {},
   "outputs": [],
   "source": [
    "# Initialize the TabNet classifier to use GPU\n",
    "tabnet_clf_top_n = TabNetClassifier(device_name='cuda')"
   ]
  },
  {
   "cell_type": "code",
   "execution_count": 28,
   "id": "90e078cf-ed2f-4421-8b26-5b644e2770f7",
   "metadata": {},
   "outputs": [
    {
     "name": "stdout",
     "output_type": "stream",
     "text": [
      "epoch 0  | loss: 0.43624 | val_0_auc: 0.91235 |  0:00:00s\n",
      "epoch 1  | loss: 0.26797 | val_0_auc: 0.9506  |  0:00:01s\n",
      "epoch 2  | loss: 0.22896 | val_0_auc: 0.94336 |  0:00:02s\n",
      "epoch 3  | loss: 0.24463 | val_0_auc: 0.95709 |  0:00:03s\n",
      "epoch 4  | loss: 0.23446 | val_0_auc: 0.95749 |  0:00:04s\n",
      "epoch 5  | loss: 0.21955 | val_0_auc: 0.96001 |  0:00:04s\n",
      "epoch 6  | loss: 0.21903 | val_0_auc: 0.96116 |  0:00:05s\n",
      "epoch 7  | loss: 0.20218 | val_0_auc: 0.95283 |  0:00:06s\n",
      "epoch 8  | loss: 0.21647 | val_0_auc: 0.95779 |  0:00:07s\n",
      "epoch 9  | loss: 0.20517 | val_0_auc: 0.96216 |  0:00:08s\n",
      "epoch 10 | loss: 0.20179 | val_0_auc: 0.96469 |  0:00:08s\n",
      "epoch 11 | loss: 0.19541 | val_0_auc: 0.97308 |  0:00:09s\n",
      "epoch 12 | loss: 0.19573 | val_0_auc: 0.96655 |  0:00:10s\n",
      "epoch 13 | loss: 0.19742 | val_0_auc: 0.9656  |  0:00:11s\n",
      "epoch 14 | loss: 0.19634 | val_0_auc: 0.96412 |  0:00:11s\n",
      "epoch 15 | loss: 0.19408 | val_0_auc: 0.96099 |  0:00:12s\n",
      "epoch 16 | loss: 0.19228 | val_0_auc: 0.96942 |  0:00:13s\n",
      "epoch 17 | loss: 0.18585 | val_0_auc: 0.9667  |  0:00:14s\n",
      "epoch 18 | loss: 0.18769 | val_0_auc: 0.9642  |  0:00:14s\n",
      "epoch 19 | loss: 0.19445 | val_0_auc: 0.97067 |  0:00:15s\n",
      "epoch 20 | loss: 0.19061 | val_0_auc: 0.97278 |  0:00:16s\n",
      "epoch 21 | loss: 0.18527 | val_0_auc: 0.97061 |  0:00:17s\n",
      "\n",
      "Early stopping occurred at epoch 21 with best_epoch = 11 and best_val_0_auc = 0.97308\n"
     ]
    }
   ],
   "source": [
    "tabnet_clf_top_n.fit(\n",
    "    X_train, y_train,\n",
    "    eval_set=[(X_val, y_val)],  # Validation set for early stopping    \n",
    "    max_epochs=100,  # Max number of epochs\n",
    "    patience=10,    # Early stopping patience\n",
    "    batch_size=256, # Mini-batch size\n",
    "    virtual_batch_size=64,  # Virtual batch size\n",
    ")"
   ]
  },
  {
   "cell_type": "code",
   "execution_count": 29,
   "id": "bdbc45be-9fba-459c-b78c-d5e0d222c2a4",
   "metadata": {},
   "outputs": [
    {
     "name": "stdout",
     "output_type": "stream",
     "text": [
      "Accuracy: 91.91%\n",
      "Classification Report for Base TabNet Model with top 15 features:\n",
      "               precision    recall  f1-score   support\n",
      "\n",
      "           0       0.91      0.99      0.95      1840\n",
      "           1       0.95      0.63      0.76       460\n",
      "\n",
      "    accuracy                           0.92      2300\n",
      "   macro avg       0.93      0.81      0.85      2300\n",
      "weighted avg       0.92      0.92      0.91      2300\n",
      "\n"
     ]
    }
   ],
   "source": [
    "# Make predictions and evaluate the base model\n",
    "y_pred = tabnet_clf_top_n.predict(X_test)\n",
    "accuracy_top_n = accuracy_score(y_test, y_pred)\n",
    "print(f\"Accuracy: {accuracy_top_n * 100:.2f}%\")\n",
    "report_top_n = classification_report(y_test, y_pred)\n",
    "print(f\"Classification Report for Base TabNet Model with top {top_n} features:\\n\", report_top_n)"
   ]
  },
  {
   "cell_type": "markdown",
   "id": "cf3e841a-a8b0-47a0-a45d-db3368afcad7",
   "metadata": {},
   "source": [
    "**Training TabNet with top 15 features only did not improve accuracy, in fact had worse accuracy at 94%**"
   ]
  },
  {
   "cell_type": "markdown",
   "id": "de3e6fa4-aee6-4d09-99fd-512be783c77f",
   "metadata": {},
   "source": [
    "# Try TabNet with Important Features Determined by PCA "
   ]
  },
  {
   "cell_type": "code",
   "execution_count": 30,
   "id": "c34370a5-0fb0-49b2-b79b-2d123bee425c",
   "metadata": {},
   "outputs": [],
   "source": [
    "# And repeat the split with the full feature set again: \n",
    "# Split the data into training (60%), validation (%20), and test sets (%20)\n",
    "X_train, X_temp, y_train, y_temp = train_test_split(X, y, test_size=0.4, random_state=42, stratify=y)\n",
    "X_val, X_test, y_val, y_test = train_test_split(X_temp, y_temp, test_size=0.5, random_state=42, stratify=y_temp)"
   ]
  },
  {
   "cell_type": "code",
   "execution_count": 31,
   "id": "e2b0c039-1a3a-48bb-867a-5ff7ace959d7",
   "metadata": {},
   "outputs": [],
   "source": [
    "scaler = StandardScaler()\n",
    "X_train = scaler.fit_transform(X_train)\n",
    "X_val = scaler.transform(X_val)\n",
    "X_test = scaler.transform(X_test)"
   ]
  },
  {
   "cell_type": "code",
   "execution_count": 32,
   "id": "bbb4aafa-8aee-48f4-a2ab-e741742deced",
   "metadata": {},
   "outputs": [
    {
     "name": "stdout",
     "output_type": "stream",
     "text": [
      "Explained Variance by 50 components: 0.99\n"
     ]
    }
   ],
   "source": [
    "# Apply PCA\n",
    "n_components = 50  # Number of principal components to keep\n",
    "pca = PCA(n_components=n_components)\n",
    "X_train_pca = pca.fit_transform(X_train)\n",
    "X_val_pca = pca.transform(X_val)\n",
    "X_test_pca = pca.transform(X_test)\n",
    "\n",
    "# Check explained variance ratio to confirm retention of important features\n",
    "explained_variance = np.sum(pca.explained_variance_ratio_)\n",
    "print(f\"Explained Variance by {n_components} components: {explained_variance:.2f}\")\n"
   ]
  },
  {
   "cell_type": "code",
   "execution_count": 33,
   "id": "2bd55cd8-b56d-495d-a564-675ded7dd1e6",
   "metadata": {},
   "outputs": [],
   "source": [
    "# Initialize the TabNet classifier to use GPU\n",
    "tabnet_clf_pca = TabNetClassifier(device_name='cuda')"
   ]
  },
  {
   "cell_type": "code",
   "execution_count": 34,
   "id": "74c84597-1efa-4d71-b05b-d6221176e133",
   "metadata": {},
   "outputs": [
    {
     "name": "stdout",
     "output_type": "stream",
     "text": [
      "epoch 0  | loss: 0.66565 | val_0_auc: 0.72098 |  0:00:00s\n",
      "epoch 1  | loss: 0.38387 | val_0_auc: 0.89301 |  0:00:00s\n",
      "epoch 2  | loss: 0.26963 | val_0_auc: 0.93292 |  0:00:00s\n",
      "epoch 3  | loss: 0.24095 | val_0_auc: 0.94489 |  0:00:00s\n",
      "epoch 4  | loss: 0.21352 | val_0_auc: 0.96415 |  0:00:01s\n",
      "epoch 5  | loss: 0.20135 | val_0_auc: 0.96888 |  0:00:01s\n",
      "epoch 6  | loss: 0.20274 | val_0_auc: 0.96996 |  0:00:01s\n",
      "epoch 7  | loss: 0.18899 | val_0_auc: 0.97482 |  0:00:02s\n",
      "epoch 8  | loss: 0.16926 | val_0_auc: 0.97175 |  0:00:02s\n",
      "epoch 9  | loss: 0.1724  | val_0_auc: 0.97217 |  0:00:02s\n",
      "epoch 10 | loss: 0.16205 | val_0_auc: 0.97224 |  0:00:02s\n",
      "epoch 11 | loss: 0.15196 | val_0_auc: 0.97163 |  0:00:03s\n",
      "epoch 12 | loss: 0.15361 | val_0_auc: 0.97376 |  0:00:03s\n",
      "\n",
      "Early stopping occurred at epoch 12 with best_epoch = 7 and best_val_0_auc = 0.97482\n"
     ]
    }
   ],
   "source": [
    "tabnet_clf_pca.fit(\n",
    "    X_train_pca, y_train,\n",
    "    eval_set=[(X_val_pca, y_val)],  # Validation set for early stopping\n",
    "    max_epochs=100,\n",
    "    patience=5,\n",
    "    batch_size=1024,\n",
    "    virtual_batch_size=256,\n",
    ")"
   ]
  },
  {
   "cell_type": "code",
   "execution_count": 35,
   "id": "8db0e629-8bb0-44e3-97b5-d6416f4e2f83",
   "metadata": {},
   "outputs": [
    {
     "name": "stdout",
     "output_type": "stream",
     "text": [
      "Accuracy: 94.43%\n",
      "Classification Report for PCA TabNet Model with 50 components:\n",
      "               precision    recall  f1-score   support\n",
      "\n",
      "           0       0.95      0.99      0.97      1840\n",
      "           1       0.94      0.77      0.85       460\n",
      "\n",
      "    accuracy                           0.94      2300\n",
      "   macro avg       0.94      0.88      0.91      2300\n",
      "weighted avg       0.94      0.94      0.94      2300\n",
      "\n"
     ]
    }
   ],
   "source": [
    "# Make predictions and evaluate the base model\n",
    "y_pred = tabnet_clf_pca.predict(X_test_pca)\n",
    "accuracy_pca = accuracy_score(y_test, y_pred)\n",
    "print(f\"Accuracy: {accuracy_pca * 100:.2f}%\")\n",
    "report_pca = classification_report(y_test, y_pred)\n",
    "print(f\"Classification Report for PCA TabNet Model with {n_components} components:\\n\", report_pca)"
   ]
  },
  {
   "cell_type": "markdown",
   "id": "291466e1-3a72-4d8a-9166-2e2645826511",
   "metadata": {},
   "source": [
    "**TabNet with PCA did not improve accuracy, it's still close to 94%**"
   ]
  },
  {
   "cell_type": "markdown",
   "id": "f7d63a99-beab-4e77-a492-e9ee524adfe6",
   "metadata": {},
   "source": [
    "# Try Grid Search on TabNet to Improve Model Hyperparameters"
   ]
  },
  {
   "cell_type": "code",
   "execution_count": 36,
   "id": "7f5e500e-9edb-41c6-b0ee-461fcadc6910",
   "metadata": {},
   "outputs": [],
   "source": [
    "# And repeat the split with the full feature set again: \n",
    "# Split the data into training (60%), validation (%20), and test sets (%20)\n",
    "X_train, X_temp, y_train, y_temp = train_test_split(X, y, test_size=0.4, random_state=42, stratify=y)\n",
    "X_val, X_test, y_val, y_test = train_test_split(X_temp, y_temp, test_size=0.5, random_state=42, stratify=y_temp)"
   ]
  },
  {
   "cell_type": "code",
   "execution_count": 37,
   "id": "b59939b0-02ed-4a3b-86eb-bdcd2aeeb34e",
   "metadata": {},
   "outputs": [],
   "source": [
    "scaler = StandardScaler()\n",
    "X_train = scaler.fit_transform(X_train)\n",
    "X_val = scaler.transform(X_val)\n",
    "X_test = scaler.transform(X_test)"
   ]
  },
  {
   "cell_type": "code",
   "execution_count": 38,
   "id": "49716dd8-dbae-441a-9082-ba2492e00bc6",
   "metadata": {},
   "outputs": [],
   "source": [
    "\n",
    "# Define the TabNet model and hyperparameters\n",
    "tabnet_clf_grid = TabNetClassifier(device_name='cuda')\n",
    "\n",
    "param_grid = {\n",
    "    'n_d': [8, 24],\n",
    "    'n_a': [8, 24],\n",
    "    'n_steps': [3,7],\n",
    "    'gamma': [1.0, 2.0],\n",
    "    'lambda_sparse': [0.0001, 0.01]\n",
    "}\n",
    "\n",
    "# Set up the stratified k-fold cross-validation\n",
    "skf = StratifiedKFold(n_splits=3, shuffle=True, random_state=42)\n",
    "\n",
    "# Create the GridSearchCV object\n",
    "grid_search = GridSearchCV(\n",
    "    estimator=tabnet_clf_grid,\n",
    "    param_grid=param_grid,\n",
    "    scoring='accuracy',\n",
    "    cv=skf,\n",
    "    verbose=2,\n",
    "    n_jobs=8\n",
    ")"
   ]
  },
  {
   "cell_type": "markdown",
   "id": "4e72fa20-6c2e-42c4-b7da-99c10061dc19",
   "metadata": {},
   "source": [
    "**WARNING: The next statement will take hours even on a machine with GPU**"
   ]
  },
  {
   "cell_type": "code",
   "execution_count": 39,
   "id": "3cf1b95e-c860-41eb-b789-9a371113accd",
   "metadata": {},
   "outputs": [
    {
     "name": "stdout",
     "output_type": "stream",
     "text": [
      "Fitting 3 folds for each of 32 candidates, totalling 96 fits\n",
      "epoch 0  | loss: 0.40516 | val_0_auc: 0.96328 |  0:00:01s\n",
      "epoch 1  | loss: 0.24    | val_0_auc: 0.95331 |  0:00:03s\n",
      "epoch 2  | loss: 0.25241 | val_0_auc: 0.9673  |  0:00:05s\n",
      "epoch 3  | loss: 0.26144 | val_0_auc: 0.95143 |  0:00:07s\n",
      "epoch 4  | loss: 0.26728 | val_0_auc: 0.96781 |  0:00:08s\n",
      "epoch 5  | loss: 0.19637 | val_0_auc: 0.94021 |  0:00:10s\n",
      "epoch 6  | loss: 0.26989 | val_0_auc: 0.96239 |  0:00:12s\n",
      "epoch 7  | loss: 0.21285 | val_0_auc: 0.96737 |  0:00:13s\n",
      "epoch 8  | loss: 0.21968 | val_0_auc: 0.96112 |  0:00:15s\n",
      "epoch 9  | loss: 0.20463 | val_0_auc: 0.96778 |  0:00:17s\n",
      "\n",
      "Early stopping occurred at epoch 9 with best_epoch = 4 and best_val_0_auc = 0.96781\n"
     ]
    },
    {
     "data": {
      "text/html": [
       "<style>#sk-container-id-1 {color: black;}#sk-container-id-1 pre{padding: 0;}#sk-container-id-1 div.sk-toggleable {background-color: white;}#sk-container-id-1 label.sk-toggleable__label {cursor: pointer;display: block;width: 100%;margin-bottom: 0;padding: 0.3em;box-sizing: border-box;text-align: center;}#sk-container-id-1 label.sk-toggleable__label-arrow:before {content: \"▸\";float: left;margin-right: 0.25em;color: #696969;}#sk-container-id-1 label.sk-toggleable__label-arrow:hover:before {color: black;}#sk-container-id-1 div.sk-estimator:hover label.sk-toggleable__label-arrow:before {color: black;}#sk-container-id-1 div.sk-toggleable__content {max-height: 0;max-width: 0;overflow: hidden;text-align: left;background-color: #f0f8ff;}#sk-container-id-1 div.sk-toggleable__content pre {margin: 0.2em;color: black;border-radius: 0.25em;background-color: #f0f8ff;}#sk-container-id-1 input.sk-toggleable__control:checked~div.sk-toggleable__content {max-height: 200px;max-width: 100%;overflow: auto;}#sk-container-id-1 input.sk-toggleable__control:checked~label.sk-toggleable__label-arrow:before {content: \"▾\";}#sk-container-id-1 div.sk-estimator input.sk-toggleable__control:checked~label.sk-toggleable__label {background-color: #d4ebff;}#sk-container-id-1 div.sk-label input.sk-toggleable__control:checked~label.sk-toggleable__label {background-color: #d4ebff;}#sk-container-id-1 input.sk-hidden--visually {border: 0;clip: rect(1px 1px 1px 1px);clip: rect(1px, 1px, 1px, 1px);height: 1px;margin: -1px;overflow: hidden;padding: 0;position: absolute;width: 1px;}#sk-container-id-1 div.sk-estimator {font-family: monospace;background-color: #f0f8ff;border: 1px dotted black;border-radius: 0.25em;box-sizing: border-box;margin-bottom: 0.5em;}#sk-container-id-1 div.sk-estimator:hover {background-color: #d4ebff;}#sk-container-id-1 div.sk-parallel-item::after {content: \"\";width: 100%;border-bottom: 1px solid gray;flex-grow: 1;}#sk-container-id-1 div.sk-label:hover label.sk-toggleable__label {background-color: #d4ebff;}#sk-container-id-1 div.sk-serial::before {content: \"\";position: absolute;border-left: 1px solid gray;box-sizing: border-box;top: 0;bottom: 0;left: 50%;z-index: 0;}#sk-container-id-1 div.sk-serial {display: flex;flex-direction: column;align-items: center;background-color: white;padding-right: 0.2em;padding-left: 0.2em;position: relative;}#sk-container-id-1 div.sk-item {position: relative;z-index: 1;}#sk-container-id-1 div.sk-parallel {display: flex;align-items: stretch;justify-content: center;background-color: white;position: relative;}#sk-container-id-1 div.sk-item::before, #sk-container-id-1 div.sk-parallel-item::before {content: \"\";position: absolute;border-left: 1px solid gray;box-sizing: border-box;top: 0;bottom: 0;left: 50%;z-index: -1;}#sk-container-id-1 div.sk-parallel-item {display: flex;flex-direction: column;z-index: 1;position: relative;background-color: white;}#sk-container-id-1 div.sk-parallel-item:first-child::after {align-self: flex-end;width: 50%;}#sk-container-id-1 div.sk-parallel-item:last-child::after {align-self: flex-start;width: 50%;}#sk-container-id-1 div.sk-parallel-item:only-child::after {width: 0;}#sk-container-id-1 div.sk-dashed-wrapped {border: 1px dashed gray;margin: 0 0.4em 0.5em 0.4em;box-sizing: border-box;padding-bottom: 0.4em;background-color: white;}#sk-container-id-1 div.sk-label label {font-family: monospace;font-weight: bold;display: inline-block;line-height: 1.2em;}#sk-container-id-1 div.sk-label-container {text-align: center;}#sk-container-id-1 div.sk-container {/* jupyter's `normalize.less` sets `[hidden] { display: none; }` but bootstrap.min.css set `[hidden] { display: none !important; }` so we also need the `!important` here to be able to override the default hidden behavior on the sphinx rendered scikit-learn.org. See: https://github.com/scikit-learn/scikit-learn/issues/21755 */display: inline-block !important;position: relative;}#sk-container-id-1 div.sk-text-repr-fallback {display: none;}</style><div id=\"sk-container-id-1\" class=\"sk-top-container\"><div class=\"sk-text-repr-fallback\"><pre>GridSearchCV(cv=StratifiedKFold(n_splits=3, random_state=42, shuffle=True),\n",
       "             estimator=TabNetClassifier(cat_dims=[], cat_emb_dim=[], cat_idxs=[], device_name=&#x27;cuda&#x27;, grouped_features=[], optimizer_params={&#x27;lr&#x27;: 0.02}, scheduler_params={}),\n",
       "             n_jobs=8,\n",
       "             param_grid={&#x27;gamma&#x27;: [1.0, 2.0], &#x27;lambda_sparse&#x27;: [0.0001, 0.01],\n",
       "                         &#x27;n_a&#x27;: [8, 24], &#x27;n_d&#x27;: [8, 24], &#x27;n_steps&#x27;: [3, 7]},\n",
       "             scoring=&#x27;accuracy&#x27;, verbose=2)</pre><b>In a Jupyter environment, please rerun this cell to show the HTML representation or trust the notebook. <br />On GitHub, the HTML representation is unable to render, please try loading this page with nbviewer.org.</b></div><div class=\"sk-container\" hidden><div class=\"sk-item sk-dashed-wrapped\"><div class=\"sk-label-container\"><div class=\"sk-label sk-toggleable\"><input class=\"sk-toggleable__control sk-hidden--visually\" id=\"sk-estimator-id-1\" type=\"checkbox\" ><label for=\"sk-estimator-id-1\" class=\"sk-toggleable__label sk-toggleable__label-arrow\">GridSearchCV</label><div class=\"sk-toggleable__content\"><pre>GridSearchCV(cv=StratifiedKFold(n_splits=3, random_state=42, shuffle=True),\n",
       "             estimator=TabNetClassifier(cat_dims=[], cat_emb_dim=[], cat_idxs=[], device_name=&#x27;cuda&#x27;, grouped_features=[], optimizer_params={&#x27;lr&#x27;: 0.02}, scheduler_params={}),\n",
       "             n_jobs=8,\n",
       "             param_grid={&#x27;gamma&#x27;: [1.0, 2.0], &#x27;lambda_sparse&#x27;: [0.0001, 0.01],\n",
       "                         &#x27;n_a&#x27;: [8, 24], &#x27;n_d&#x27;: [8, 24], &#x27;n_steps&#x27;: [3, 7]},\n",
       "             scoring=&#x27;accuracy&#x27;, verbose=2)</pre></div></div></div><div class=\"sk-parallel\"><div class=\"sk-parallel-item\"><div class=\"sk-item\"><div class=\"sk-label-container\"><div class=\"sk-label sk-toggleable\"><input class=\"sk-toggleable__control sk-hidden--visually\" id=\"sk-estimator-id-2\" type=\"checkbox\" ><label for=\"sk-estimator-id-2\" class=\"sk-toggleable__label sk-toggleable__label-arrow\">estimator: TabNetClassifier</label><div class=\"sk-toggleable__content\"><pre>TabNetClassifier(n_d=8, n_a=8, n_steps=3, gamma=1.3, cat_idxs=[], cat_dims=[], cat_emb_dim=[], n_independent=2, n_shared=2, epsilon=1e-15, momentum=0.02, lambda_sparse=0.001, seed=0, clip_value=1, verbose=1, optimizer_fn=&lt;class &#x27;torch.optim.adam.Adam&#x27;&gt;, optimizer_params={&#x27;lr&#x27;: 0.02}, scheduler_fn=None, scheduler_params={}, mask_type=&#x27;sparsemax&#x27;, input_dim=None, output_dim=None, device_name=&#x27;cuda&#x27;, n_shared_decoder=1, n_indep_decoder=1, grouped_features=[])</pre></div></div></div><div class=\"sk-serial\"><div class=\"sk-item\"><div class=\"sk-estimator sk-toggleable\"><input class=\"sk-toggleable__control sk-hidden--visually\" id=\"sk-estimator-id-3\" type=\"checkbox\" ><label for=\"sk-estimator-id-3\" class=\"sk-toggleable__label sk-toggleable__label-arrow\">TabNetClassifier</label><div class=\"sk-toggleable__content\"><pre>TabNetClassifier(n_d=8, n_a=8, n_steps=3, gamma=1.3, cat_idxs=[], cat_dims=[], cat_emb_dim=[], n_independent=2, n_shared=2, epsilon=1e-15, momentum=0.02, lambda_sparse=0.001, seed=0, clip_value=1, verbose=1, optimizer_fn=&lt;class &#x27;torch.optim.adam.Adam&#x27;&gt;, optimizer_params={&#x27;lr&#x27;: 0.02}, scheduler_fn=None, scheduler_params={}, mask_type=&#x27;sparsemax&#x27;, input_dim=None, output_dim=None, device_name=&#x27;cuda&#x27;, n_shared_decoder=1, n_indep_decoder=1, grouped_features=[])</pre></div></div></div></div></div></div></div></div></div></div>"
      ],
      "text/plain": [
       "GridSearchCV(cv=StratifiedKFold(n_splits=3, random_state=42, shuffle=True),\n",
       "             estimator=TabNetClassifier(cat_dims=[], cat_emb_dim=[], cat_idxs=[], device_name='cuda', grouped_features=[], optimizer_params={'lr': 0.02}, scheduler_params={}),\n",
       "             n_jobs=8,\n",
       "             param_grid={'gamma': [1.0, 2.0], 'lambda_sparse': [0.0001, 0.01],\n",
       "                         'n_a': [8, 24], 'n_d': [8, 24], 'n_steps': [3, 7]},\n",
       "             scoring='accuracy', verbose=2)"
      ]
     },
     "execution_count": 39,
     "metadata": {},
     "output_type": "execute_result"
    }
   ],
   "source": [
    "# Fit the model using GridSearchCV\n",
    "grid_search.fit(\n",
    "    X_train, y_train,\n",
    "    eval_set=[(X_val, y_val)],  # Validation set for early stopping\n",
    "    max_epochs=30,  # Max number of epochs\n",
    "    patience=5,    # Early stopping patience\n",
    "    batch_size=256, # Mini-batch size\n",
    "    virtual_batch_size=64,  # Virtual batch size\n",
    "    num_workers=0  # Set to >0 for multiprocessing\n",
    ")"
   ]
  },
  {
   "cell_type": "code",
   "execution_count": 42,
   "id": "c0ae9ee3-9d64-4f08-80b2-a6d6480e57b3",
   "metadata": {},
   "outputs": [
    {
     "name": "stdout",
     "output_type": "stream",
     "text": [
      "Best Parameters: {'gamma': 1.0, 'lambda_sparse': 0.0001, 'n_a': 24, 'n_d': 24, 'n_steps': 7}\n",
      "Best Score: 0.93\n"
     ]
    }
   ],
   "source": [
    "# Get the best parameters and score\n",
    "best_params = grid_search.best_params_\n",
    "best_score = grid_search.best_score_\n",
    "best_model = grid_search.best_estimator_\n",
    "print(\"Best Parameters:\", best_params)\n",
    "print(\"Best Score:\", round(best_score,2))"
   ]
  },
  {
   "cell_type": "code",
   "execution_count": 43,
   "id": "e7623563-9f29-4e3c-8157-6c4cdee88663",
   "metadata": {},
   "outputs": [
    {
     "name": "stdout",
     "output_type": "stream",
     "text": [
      "Accuracy: 91.43%\n",
      "Classification Report for GRID TabNet Model:\n",
      "               precision    recall  f1-score   support\n",
      "\n",
      "           0       0.91      0.99      0.95      1840\n",
      "           1       0.96      0.60      0.74       460\n",
      "\n",
      "    accuracy                           0.91      2300\n",
      "   macro avg       0.93      0.80      0.84      2300\n",
      "weighted avg       0.92      0.91      0.91      2300\n",
      "\n"
     ]
    }
   ],
   "source": [
    "# Make predictions and evaluate the base model\n",
    "y_pred = best_model.predict(X_test)\n",
    "accuracy_grid = accuracy_score(y_test, y_pred)\n",
    "print(f\"Accuracy: {accuracy_grid * 100:.2f}%\")\n",
    "report_grid = classification_report(y_test, y_pred)\n",
    "print(f\"Classification Report for GRID TabNet Model:\\n\", report_grid)"
   ]
  },
  {
   "cell_type": "markdown",
   "id": "95d1ab8c-6ff9-462b-91ff-2e9eb1eeee99",
   "metadata": {},
   "source": [
    "**Grid search did not improve model accuracy beyond the default model parameters.**"
   ]
  },
  {
   "cell_type": "markdown",
   "id": "3803a234-4d79-4009-a1f3-4af988236799",
   "metadata": {},
   "source": [
    "# TabNet with Best Model Parameters from Grid Search"
   ]
  },
  {
   "cell_type": "code",
   "execution_count": 44,
   "id": "211a729f-449a-4573-9914-c3bbfd981d35",
   "metadata": {},
   "outputs": [],
   "source": [
    "# Split the data into training (60%), validation (%20), and test sets (%20)\n",
    "X_train, X_temp, y_train, y_temp = train_test_split(X, y, test_size=0.4, random_state=42, stratify=y)\n",
    "X_val, X_test, y_val, y_test = train_test_split(X_temp, y_temp, test_size=0.5, random_state=42, stratify=y_temp)"
   ]
  },
  {
   "cell_type": "code",
   "execution_count": 45,
   "id": "04ce0747-8afa-4dff-a103-5eb027a37f99",
   "metadata": {},
   "outputs": [],
   "source": [
    "scaler = StandardScaler()\n",
    "X_train = scaler.fit_transform(X_train)\n",
    "X_val = scaler.transform(X_val)\n",
    "X_test = scaler.transform(X_test)"
   ]
  },
  {
   "cell_type": "code",
   "execution_count": 46,
   "id": "f9bdbad6-172e-49e0-a3eb-dd9e78748e1d",
   "metadata": {},
   "outputs": [],
   "source": [
    "# Initialize the TabNet classifier to use GPU\n",
    "tabnet_clf_best = TabNetClassifier(device_name='cuda',gamma=1,lambda_sparse=0.0001,n_a=24,n_d=24,n_steps=7,verbose=0)"
   ]
  },
  {
   "cell_type": "code",
   "execution_count": 47,
   "id": "3cf060d0-6081-4931-a547-6dd1c6cbd2ae",
   "metadata": {},
   "outputs": [
    {
     "name": "stdout",
     "output_type": "stream",
     "text": [
      "\n",
      "Early stopping occurred at epoch 34 with best_epoch = 24 and best_val_0_auc = 0.97557\n"
     ]
    }
   ],
   "source": [
    "# do base level training of model\n",
    "tabnet_clf_best.fit(\n",
    "    X_train, y_train,\n",
    "    eval_set=[(X_val, y_val)],  # Validation set for early stopping    \n",
    "    max_epochs=500,  # Max number of epochs\n",
    "    patience=10,    # Early stopping patience\n",
    "    batch_size=256, # Mini-batch size\n",
    "    virtual_batch_size=64,  # Virtual batch size\n",
    "    num_workers=0,  # Set to >0 for multiprocessing\n",
    ")"
   ]
  },
  {
   "cell_type": "code",
   "execution_count": 48,
   "id": "b43fee99-9167-4c41-b9ab-6f35fce9f74e",
   "metadata": {},
   "outputs": [
    {
     "name": "stdout",
     "output_type": "stream",
     "text": [
      "Accuracy: 93.22%\n",
      "Classification Report for Best Pars  TabNet Model:\n",
      "               precision    recall  f1-score   support\n",
      "\n",
      "           0       0.94      0.98      0.96      1840\n",
      "           1       0.91      0.73      0.81       460\n",
      "\n",
      "    accuracy                           0.93      2300\n",
      "   macro avg       0.92      0.86      0.89      2300\n",
      "weighted avg       0.93      0.93      0.93      2300\n",
      "\n"
     ]
    }
   ],
   "source": [
    "# Make predictions and evaluate the base model\n",
    "y_pred = tabnet_clf_best.predict(X_test)\n",
    "accuracy_best = accuracy_score(y_test, y_pred)\n",
    "print(f\"Accuracy: {accuracy_best * 100:.2f}%\")\n",
    "report_best = classification_report(y_test, y_pred)\n",
    "print(\"Classification Report for Best Pars  TabNet Model:\\n\", report_best)"
   ]
  },
  {
   "cell_type": "markdown",
   "id": "1dc82dcf-87bf-48c5-a639-d7035b930cd9",
   "metadata": {},
   "source": [
    "**TabNet did not improve in accuracy even with the 'best' parameters from a grid search.**"
   ]
  },
  {
   "cell_type": "markdown",
   "id": "2b8d1545-938b-4d95-a74a-9f57eac62aa2",
   "metadata": {},
   "source": [
    "# Conclusion"
   ]
  },
  {
   "cell_type": "markdown",
   "id": "ea4137f3-df73-44bb-8396-ac57aa93aeb4",
   "metadata": {},
   "source": [
    "*Although the TabNet model achieves 94-95% accuracy on this dataset, it is not the best model in this context. TabNet is a good model for time series data, but for this dataset it is not effective due to the time series happening within samples instead of across samples - and TabNet does not appear to exploit this sequential time aspect of individual sample data.*"
   ]
  },
  {
   "cell_type": "code",
   "execution_count": null,
   "id": "68432232-39e1-4705-8ced-3e211c9c0c49",
   "metadata": {},
   "outputs": [],
   "source": []
  }
 ],
 "metadata": {
  "kernelspec": {
   "display_name": "Python 3 (ipykernel)",
   "language": "python",
   "name": "python3"
  },
  "language_info": {
   "codemirror_mode": {
    "name": "ipython",
    "version": 3
   },
   "file_extension": ".py",
   "mimetype": "text/x-python",
   "name": "python",
   "nbconvert_exporter": "python",
   "pygments_lexer": "ipython3",
   "version": "3.8.20"
  }
 },
 "nbformat": 4,
 "nbformat_minor": 5
}
